{
 "cells": [
  {
   "cell_type": "markdown",
   "id": "eec4fbfc",
   "metadata": {},
   "source": [
    "# Azure AI Foundry"
   ]
  },
  {
   "cell_type": "markdown",
   "id": "333d0647",
   "metadata": {},
   "source": [
    "<center><img src=\"../../images/Azure-AI-Foundry_1600x900.jpg\" alt=\"Azure AI Foundry\" width=\"600\">"
   ]
  },
  {
   "cell_type": "markdown",
   "id": "0694e061",
   "metadata": {},
   "source": [
    "## Laboratório 3"
   ]
  },
  {
   "cell_type": "markdown",
   "id": "e78012a8",
   "metadata": {},
   "source": [
    "### Prompt Engineering"
   ]
  },
  {
   "cell_type": "markdown",
   "id": "4d455425",
   "metadata": {},
   "source": []
  },
  {
   "cell_type": "markdown",
   "id": "e09db70a",
   "metadata": {},
   "source": [
    "### Zero-Shot Prompting"
   ]
  },
  {
   "cell_type": "markdown",
   "id": "3e70e2c7",
   "metadata": {},
   "source": []
  },
  {
   "cell_type": "markdown",
   "id": "10b7f0c2",
   "metadata": {},
   "source": [
    "### Few-Shot Prompting"
   ]
  },
  {
   "cell_type": "markdown",
   "id": "66942a38",
   "metadata": {},
   "source": []
  },
  {
   "cell_type": "markdown",
   "id": "d71159cc",
   "metadata": {},
   "source": [
    "### Chain-of-Thought Prompting"
   ]
  },
  {
   "cell_type": "markdown",
   "id": "332abde8",
   "metadata": {},
   "source": []
  },
  {
   "cell_type": "markdown",
   "id": "9e37d85a",
   "metadata": {},
   "source": [
    "### Meta Prompting"
   ]
  },
  {
   "cell_type": "markdown",
   "id": "94905a3d",
   "metadata": {},
   "source": []
  },
  {
   "cell_type": "markdown",
   "id": "c74ee17a",
   "metadata": {},
   "source": [
    "### Prompt Chaining"
   ]
  },
  {
   "cell_type": "markdown",
   "id": "f79e43cc",
   "metadata": {},
   "source": []
  },
  {
   "cell_type": "markdown",
   "id": "3842bfd5",
   "metadata": {},
   "source": [
    "### Tree of Thoughts (ToT)"
   ]
  },
  {
   "cell_type": "markdown",
   "id": "185847f1",
   "metadata": {},
   "source": []
  },
  {
   "cell_type": "markdown",
   "id": "cb968461",
   "metadata": {},
   "source": [
    "### Retrieval Augmented Generation (RAG)"
   ]
  },
  {
   "cell_type": "markdown",
   "id": "a2b0d285",
   "metadata": {},
   "source": []
  },
  {
   "cell_type": "markdown",
   "id": "5c526786",
   "metadata": {},
   "source": [
    "### Active-Prompt"
   ]
  },
  {
   "cell_type": "markdown",
   "id": "2031b02a",
   "metadata": {},
   "source": []
  },
  {
   "cell_type": "markdown",
   "id": "2dc55621",
   "metadata": {},
   "source": [
    "### Melhores Práticas"
   ]
  },
  {
   "cell_type": "markdown",
   "id": "3f05e2fd",
   "metadata": {},
   "source": [
    "**Seja Específico.** Deixe o mínimo possível para interpretação. Restrinja o espaço operacional.\n",
    "\n",
    "**Seja Descritivo.** Use analogias para tornar as instruções mais claras.\n",
    "\n",
    "**Reforce as Instruções.** Às vezes pode ser necessário se repetir para o modelo. Forneça instruções antes e depois do seu conteúdo principal, use uma instrução e uma deixa, etc.\n",
    "\n",
    "**A Ordem Importa.** A ordem em que você apresenta informações ao modelo pode impactar o resultado. Se você coloca instruções antes do seu conteúdo (\"resuma o seguinte...\") ou depois (\"resuma o texto acima...\") pode fazer diferença no resultado. Até mesmo a ordem dos exemplos few-shot pode importar. Isso é conhecido como viés de recência.\n",
    "\n",
    "**Ofereça uma Alternativa ao Modelo.** Às vezes pode ser útil dar ao modelo um caminho alternativo se ele não conseguir completar a tarefa atribuída. Por exemplo, ao fazer uma pergunta sobre um texto, você pode incluir algo como \"responda com 'não encontrado' se a resposta não estiver presente.\" Isso pode ajudar o modelo a evitar gerar respostas falsas."
   ]
  }
 ],
 "metadata": {
  "language_info": {
   "name": "python"
  }
 },
 "nbformat": 4,
 "nbformat_minor": 5
}
